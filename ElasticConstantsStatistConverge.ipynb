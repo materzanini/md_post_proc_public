{
 "cells": [
  {
   "cell_type": "code",
   "execution_count": null,
   "id": "9699709b",
   "metadata": {},
   "outputs": [],
   "source": [
    "# this is to reload the python files file if they are changed on the disk\n",
    "%load_ext autoreload\n",
    "%autoreload 2"
   ]
  },
  {
   "cell_type": "code",
   "execution_count": null,
   "id": "dc777026",
   "metadata": {},
   "outputs": [],
   "source": [
    "import numpy as np\n",
    "import matplotlib.pyplot as plt\n",
    "from matplotlib.offsetbox import AnchoredText\n",
    "from matplotlib.ticker import (MultipleLocator, FormatStrFormatter,AutoMinorLocator)\n",
    "import ElasticConstantsStatistConvergModule as ECM\n",
    "from scipy.interpolate import interp1d\n",
    "rad2deg=180/np.pi\n",
    "bohr2a = 0.52917724899"
   ]
  },
  {
   "cell_type": "code",
   "execution_count": null,
   "id": "68989647",
   "metadata": {},
   "outputs": [],
   "source": [
    "# input and output files and labels\n",
    "material = 't-LGPS-2x1x1' # label for the material\n",
    "nAtoms = 100              # number of atoms in the unit cell\n",
    "temperature = 600         # temperature (used for labelling)\n",
    "\n",
    "path = ''                         # path of the files\n",
    "fileEvpName = path + 'LGPS.evp'   # file evp of QE\n",
    "fileCelName = path + 'LGPS.cel'   # file cel of QE\n",
    "\n",
    "# output files\n",
    "fileModuliTOutName = path + 'moduli_' + material + '_' + str(temperature) + 'K_convergence.dat'\n",
    "fileModuliOutName = path + 'moduli_'  + material + '_' + str(temperature) + 'K.dat'\n",
    "\n",
    "# figures name\n",
    "fileEpsilonPngName = path + 'epsilon.png'\n",
    "fileModuliName = path + 'moduli.png'\n",
    "fileCellPngName = path + 'cell_parameters.png'\n",
    "filesigma2moduliPngName = path + 'sigma.png'\n",
    "\n",
    "print('material    = ', material)\n",
    "print('temperature = ', temperature,'K')"
   ]
  },
  {
   "cell_type": "code",
   "execution_count": null,
   "id": "7a4ae607",
   "metadata": {},
   "outputs": [],
   "source": [
    "# parse QE files\n",
    "fileEvpAsArray = ECM.read_from_file_evp(fileEvpName)\n",
    "celArrayTmp = ECM.read_cel_from_file_cel(fileCelName,4)"
   ]
  },
  {
   "cell_type": "code",
   "execution_count": null,
   "id": "fdbac83f",
   "metadata": {},
   "outputs": [],
   "source": [
    "# copy the output array of the evp file in multiple ones for an easier handling\n",
    "mdArrayTmp       = np.copy(fileEvpAsArray[:,0])\n",
    "timeArrayTmp     = np.copy(fileEvpAsArray[:,1])\n",
    "ekincArrayTmp    = np.copy(fileEvpAsArray[:,2])\n",
    "tIonsArrayTmp    = np.copy(fileEvpAsArray[:,4])\n",
    "eCPArrayTmp      = np.copy(fileEvpAsArray[:,5])\n",
    "eConsArrayTmp    = np.copy(fileEvpAsArray[:,7])\n",
    "eContArrayTmp    = np.copy(fileEvpAsArray[:,8])\n",
    "volumeArrayTmp   = np.copy(fileEvpAsArray[:,9])\n",
    "pressureArrayTmp = np.copy(fileEvpAsArray[:,10])"
   ]
  },
  {
   "cell_type": "code",
   "execution_count": null,
   "id": "cadfb40d",
   "metadata": {},
   "outputs": [],
   "source": [
    "# define some CP quantities\n",
    "ekinIonsArrayTmp = eConsArrayTmp - eCPArrayTmp\n",
    "eRestArrayTmp = eContArrayTmp - eConsArrayTmp - ekincArrayTmp"
   ]
  },
  {
   "cell_type": "code",
   "execution_count": null,
   "id": "0504f8ce",
   "metadata": {},
   "outputs": [],
   "source": [
    "# estimate indexTInitial and cut timeArrayTmp from tInitial\n",
    "estimatedTForEnergy = 0.2 # truncate trajectory if needed (in picoseconds)\n",
    "tEne = ECM.find_nearest(timeArrayTmp, estimatedTForEnergy)\n",
    "indexTEne=int(np.nonzero(timeArrayTmp == tEne)[0])"
   ]
  },
  {
   "cell_type": "code",
   "execution_count": null,
   "id": "8f51bf5b",
   "metadata": {},
   "outputs": [],
   "source": [
    "# plot temperature during the simulation\n",
    "fig = plt.figure()\n",
    "ax1 = fig.add_subplot(111)\n",
    "ax1.plot(timeArrayTmp[indexTEne:],tIonsArrayTmp[indexTEne:],label=\"$Temp_{ions}$\",c='tab:red')\n",
    "\n",
    "ax1.set_xlabel('time (ps)')\n",
    "ax1.set_ylabel('temperature (K)')\n",
    "ax1.text(0.35, 0.9, material,\n",
    "        verticalalignment='bottom', horizontalalignment='right',\n",
    "         transform=ax1.transAxes,\n",
    "        color='black', fontsize=15)\n",
    "plt.legend(loc=1, bbox_to_anchor=(1,1))\n",
    "plt.show()"
   ]
  },
  {
   "cell_type": "code",
   "execution_count": null,
   "id": "7e4870be",
   "metadata": {},
   "outputs": [],
   "source": [
    "# plot CP energies\n",
    "fig = plt.figure()\n",
    "ax1 = fig.add_subplot(111)\n",
    "ax1.plot(timeArrayTmp[indexTEne:],eCPArrayTmp[indexTEne:],label=\"$E_{CP}$\",c='tab:cyan')\n",
    "ax1.plot(timeArrayTmp[indexTEne:],eConsArrayTmp[indexTEne:],label=\"$E_{cons}$\",c='tab:red')\n",
    "ax1.plot(timeArrayTmp[indexTEne:],eContArrayTmp[indexTEne:],label=\"$E_{cont}$\",c='black')\n",
    "ax1.set_xlim(0,200)\n",
    "ax1.set_xlabel('time (ps)')\n",
    "ax1.set_ylabel('energy (Hartree)')\n",
    "ax1.text(0.8, 0.9, material,\n",
    "        verticalalignment='bottom', horizontalalignment='right',\n",
    "         transform=ax1.transAxes,\n",
    "        color='black', fontsize=15)\n",
    "plt.legend(loc=1, bbox_to_anchor=(1,1))\n",
    "plt.show();\n"
   ]
  },
  {
   "cell_type": "code",
   "execution_count": null,
   "id": "4c47b25d",
   "metadata": {},
   "outputs": [],
   "source": [
    "# read cell params\n",
    "nt,aTmp,bTmp,cTmp,alphaTmp,betaTmp,gammaTmp,volumeCellTmp = ECM.cellVectAndAngles(celArrayTmp)"
   ]
  },
  {
   "cell_type": "code",
   "execution_count": null,
   "id": "e2a336ae",
   "metadata": {},
   "outputs": [],
   "source": [
    "# average\n",
    "aAve   = np.mean(aTmp)\n",
    "bAve   = np.mean(bTmp)\n",
    "cAve   = np.mean(cTmp)\n",
    "volAve = np.mean(volumeCellTmp)"
   ]
  },
  {
   "cell_type": "code",
   "execution_count": null,
   "id": "f9f23d69",
   "metadata": {},
   "outputs": [],
   "source": [
    "# plot lattice params\n",
    "fig = plt.figure(figsize=(6.4,4.8))\n",
    "ax1 = fig.add_subplot(111)\n",
    "ax1.plot(timeArrayTmp,aTmp,label=\"<$a$> = \"'%3.2f'%(aAve),c='tab:purple')\n",
    "ax1.plot(timeArrayTmp,bTmp,label=\"<$b$> = \"'%3.2f'%(bAve),c='tab:olive')\n",
    "ax1.plot(timeArrayTmp,cTmp,label=\"<$c$> = \"'%3.2f'%(cAve),c='tab:cyan')\n",
    "ax1.set_ylim(5,20)\n",
    "ax1.set_xlabel('time (ps)')\n",
    "ax1.set_ylabel('cell edge ($\\mathrm{\\AA}$)')\n",
    "plt.legend()\n",
    "plt.savefig(fileCellPngName,dpi=300, bbox_inches='tight', pad_inches=0.01)\n",
    "plt.show()"
   ]
  },
  {
   "cell_type": "code",
   "execution_count": null,
   "id": "1d1f661f",
   "metadata": {},
   "outputs": [],
   "source": [
    "# plot angles\n",
    "fig = plt.figure(figsize=(6.4,4.8))\n",
    "ax1 = fig.add_subplot(111)\n",
    "ax1.plot(timeArrayTmp,alphaTmp*rad2deg,label=\"$\\\\alpha$\",c='tab:purple')\n",
    "ax1.plot(timeArrayTmp,betaTmp*rad2deg,label=\"$\\\\beta$\",c='tab:olive')\n",
    "ax1.plot(timeArrayTmp,gammaTmp*rad2deg,label=\"$\\\\gamma$\",c='tab:cyan')\n",
    "ax1.set_xlim(0,200)\n",
    "ax1.set_xlabel('time (ps)')\n",
    "ax1.set_ylabel('angles (deg)')\n",
    "ax1.text(0.8, 0.9, material,\n",
    "        verticalalignment='bottom', horizontalalignment='right',\n",
    "         transform=ax1.transAxes,\n",
    "        color='black', fontsize=15)\n",
    "plt.legend(loc=1, bbox_to_anchor=(1,1))\n",
    "plt.show()"
   ]
  },
  {
   "cell_type": "code",
   "execution_count": null,
   "id": "390ce30a",
   "metadata": {},
   "outputs": [],
   "source": [
    "# plot volume\n",
    "fig = plt.figure()\n",
    "ax1 = fig.add_subplot(111)\n",
    "ax1.plot(timeArrayTmp,volumeArrayTmp*(bohr2a)**3,label=\"volume\",c='tab:red')\n",
    "ax1.set_xlim(0,200)\n",
    "ax1.set_xlabel('time (ps)')\n",
    "ax1.set_ylabel('volume (Angstrom)')\n",
    "ax1.text(0.4, 0.8, str(material) + '\\n' + str(temperature) + 'K',\n",
    "        verticalalignment='bottom', horizontalalignment='right',\n",
    "         transform=ax1.transAxes,\n",
    "        color='black', fontsize=15)\n",
    "plt.legend(loc=1, bbox_to_anchor=(1,1))\n",
    "plt.show()\n"
   ]
  },
  {
   "cell_type": "code",
   "execution_count": null,
   "id": "923c3911",
   "metadata": {},
   "outputs": [],
   "source": [
    "# estimate indexTInitial and cut timeArrayTmp from tInitial\n",
    "estimatedTInitial = 2.5 # change this value for equilibration time (in picoseconds)\n",
    "#\n",
    "tInitial = ECM.find_nearest(timeArrayTmp, estimatedTInitial)\n",
    "indexTInitial=int(np.nonzero(timeArrayTmp == tInitial)[0])\n",
    "mdInitial = mdArrayTmp[indexTInitial]\n",
    "#\n",
    "ntCut = nt - indexTInitial\n",
    "timeArrayCut = timeArrayTmp[indexTInitial:]\n",
    "celArrayCut = celArrayTmp [indexTInitial:,:,:]\n",
    "mdArrayCut = mdArrayTmp [indexTInitial:]\n",
    "volumeArrayCut = volumeArrayTmp[indexTInitial:]"
   ]
  },
  {
   "cell_type": "code",
   "execution_count": null,
   "id": "763c1ecc",
   "metadata": {},
   "outputs": [],
   "source": [
    "# replot volume\n",
    "fig = plt.figure()\n",
    "ax1 = fig.add_subplot(111)\n",
    "ax1.plot(timeArrayCut,volumeArrayCut*(bohr2a)**3,label=\"volume\",c='tab:red')\n",
    "ax1.set_xlim(0,200)\n",
    "ax1.set_xlabel('time (ps)')\n",
    "ax1.set_ylabel('volume (Angstrom)')\n",
    "ax1.text(0.4, 0.8, str(material) + '\\n' + str(temperature) + 'K',\n",
    "        verticalalignment='bottom', horizontalalignment='right',\n",
    "         transform=ax1.transAxes,\n",
    "        color='black', fontsize=15)\n",
    "plt.legend(loc=1, bbox_to_anchor=(1,1))\n",
    "plt.show();\n"
   ]
  },
  {
   "cell_type": "code",
   "execution_count": null,
   "id": "edd8e8b8",
   "metadata": {},
   "outputs": [],
   "source": [
    "# set arrays\n",
    "timeArray = timeArrayCut\n",
    "celArray = celArrayCut\n",
    "mdArray = mdArrayCut"
   ]
  },
  {
   "cell_type": "code",
   "execution_count": null,
   "id": "706ef22a",
   "metadata": {},
   "outputs": [],
   "source": [
    "# calculate cell tensor as a function of time, its average, the strain also in voigt notation, and the volume \n",
    "hLat = ECM.hTohCrystal(celArray)\n",
    "hLatAve = np.mean(hLat,axis=0)\n",
    "epsilonT, volAve = ECM.hToEpsilon(hLat)\n",
    "epsilonVoigt = ECM.epsToepsVoigt(epsilonT)\n",
    "Volume = ECM.htoVolume(celArray)"
   ]
  },
  {
   "cell_type": "code",
   "execution_count": null,
   "id": "649a4964",
   "metadata": {},
   "outputs": [],
   "source": [
    "#\n",
    "fig = plt.figure()\n",
    "ax1 = fig.add_subplot(111)\n",
    "\n",
    "ax1.plot(timeArray,epsilonVoigt[:,0],label=\"$\\epsilon_1$\")\n",
    "ax1.plot(timeArray,epsilonVoigt[:,1],label=\"$\\epsilon_2$\")\n",
    "ax1.plot(timeArray,epsilonVoigt[:,2],label=\"$\\epsilon_3$\")\n",
    "ax1.plot(timeArray,epsilonVoigt[:,3],label=\"$\\epsilon_4$\")\n",
    "ax1.plot(timeArray,epsilonVoigt[:,4],label=\"$\\epsilon_5$\")\n",
    "ax1.plot(timeArray,epsilonVoigt[:,5],label=\"$\\epsilon_6$\")\n",
    "ax1.set_ylim(-0.1,0.1)\n",
    "ax1.set_xlim(0,200)\n",
    "ax1.yaxis.set_major_locator(MultipleLocator(0.02))\n",
    "ax1.yaxis.set_minor_locator(MultipleLocator(0.002))\n",
    "\n",
    "ax1.set_xlabel('time (ps)')\n",
    "ax1.set_ylabel('strain')\n",
    "ax1.text(0.8, 0.9, str(material) + ' ' + str(temperature)+  ' K',\n",
    "        verticalalignment='bottom', horizontalalignment='right',\n",
    "         transform=ax1.transAxes,\n",
    "        color='black', fontsize=15)\n",
    "plt.legend(loc=1, bbox_to_anchor=(1,1))\n",
    "plt.savefig(fileEpsilonPngName,dpi=300, bbox_inches='tight', pad_inches=0.01)\n",
    "plt.show()"
   ]
  },
  {
   "cell_type": "code",
   "execution_count": null,
   "id": "fa13fdbb",
   "metadata": {},
   "outputs": [],
   "source": [
    "# calculate elastic constants\n",
    "elasticConstants, compliances = ECM.epsVoigtToElasticConstants(epsilonVoigt,Volume,temperature)"
   ]
  },
  {
   "cell_type": "code",
   "execution_count": null,
   "id": "34f60498",
   "metadata": {},
   "outputs": [],
   "source": [
    "# calculate moduli and do block analysis\n",
    "maxBlock = 600 # maximum number of blocks for which the trajectory is divided\n",
    "nblockStep = 1 # step between a division and another\n",
    "errBModulusList = []\n",
    "errGModulusList = []\n",
    "errEModulusList = []\n",
    "errRPoissonList = []\n",
    "dataInBlockList = []\n",
    "for iblock in range(0,maxBlock,nblockStep):\n",
    "    errC, errS, errVolume = ECM.elasticConstantsError(epsilonVoigt,Volume,compliances,elasticConstants,temperature,iblock+2)\n",
    "    BModulus,errBModulus,GModulus,errGModulus,EModulus,errEModulus,rPoisson,errRPoisson = ECM.ElasticConstantsToModuliAndErrors(elasticConstants,errC**2,compliances,errS**2)\n",
    "    errBModulusList.append(errBModulus)\n",
    "    errGModulusList.append(errGModulus)\n",
    "    errEModulusList.append(errEModulus)\n",
    "    errRPoissonList.append(errRPoisson)\n",
    "    dataInBlockList.append(int(Volume.shape[0]/(iblock+2)))   "
   ]
  },
  {
   "cell_type": "code",
   "execution_count": null,
   "id": "11cd31df",
   "metadata": {},
   "outputs": [],
   "source": [
    "# plot the result of the block analysis on moduli\n",
    "fig = plt.figure()\n",
    "ax1 = fig.add_subplot(111)\n",
    "ax1.plot(dataInBlockList,errBModulusList/BModulus,marker=\".\",label=\"$\\sigma$(B)/B\")\n",
    "ax1.plot(dataInBlockList,errGModulusList/GModulus,marker=\".\",label=\"$\\sigma$(G)/G\")\n",
    "ax1.plot(dataInBlockList,errEModulusList/EModulus,marker=\".\",label=\"$\\sigma$(E)/E\")\n",
    "ax1.plot(dataInBlockList,errRPoissonList/rPoisson,marker=\".\",label=\"$\\sigma$($\\\\nu$)/$\\\\nu$\")\n",
    "ax1.xaxis.set_major_locator(MultipleLocator(5000))\n",
    "ax1.xaxis.set_minor_locator(MultipleLocator(1000))\n",
    "ax1.yaxis.set_major_locator(MultipleLocator(0.02))\n",
    "ax1.yaxis.set_minor_locator(MultipleLocator(0.002))\n",
    "ax1.set_xlabel('# data in block')\n",
    "ax1.set_ylabel('variance/absolute value of the mean')\n",
    "plt.legend(loc=1, bbox_to_anchor=(1,1))\n",
    "plt.savefig(filesigma2moduliPngName,dpi=300, bbox_inches='tight', pad_inches=0.01)\n",
    "plt.show()"
   ]
  },
  {
   "cell_type": "code",
   "execution_count": null,
   "id": "836ac248",
   "metadata": {},
   "outputs": [],
   "source": [
    "# estimate number of blocks for uncorrelated data\n",
    "estimatedDataInBlock = 4200\n",
    "actualEstimatedDataInBlock = ECM.find_nearest(dataInBlockList, estimatedDataInBlock)\n",
    "estimatedNBlocks = int(Volume.shape[0]/actualEstimatedDataInBlock)\n",
    "print('estimated number of blocks:' ,estimatedNBlocks)"
   ]
  },
  {
   "cell_type": "code",
   "execution_count": null,
   "id": "20b1178f",
   "metadata": {},
   "outputs": [],
   "source": [
    "# choose number of blocks\n",
    "nBlockChosen = estimatedNBlocks # default"
   ]
  },
  {
   "cell_type": "code",
   "execution_count": null,
   "id": "2002d3dc",
   "metadata": {},
   "outputs": [],
   "source": [
    "# estimate errors on moduli and write it to file\n",
    "errC, errS, errVolume = ECM.elasticConstantsError(epsilonVoigt,Volume,compliances,elasticConstants,temperature,nBlockChosen)\n",
    "BModulus,errBModulus,GModulus,errGModulus,EModulus,errEModulus,rPoisson,errRPoisson = ECM.ElasticConstantsToModuliAndErrors(elasticConstants,errC**2,compliances, errS**2)\n",
    "outModuli_file=open(fileModuliOutName, \"w+\")\n",
    "outModuli_file.write(str(BModulus) + ' ' +  str(errBModulus) + '\\n ')\n",
    "outModuli_file.write(str(GModulus) + ' ' +  str(errGModulus) + '\\n ')\n",
    "outModuli_file.write(str(EModulus) + ' ' +  str(errEModulus) + '\\n ')\n",
    "outModuli_file.write(str(rPoisson) + ' ' +  str(errRPoisson) + '\\n ')\n",
    "outModuli_file.close()"
   ]
  },
  {
   "cell_type": "code",
   "execution_count": null,
   "id": "8e95ba08",
   "metadata": {},
   "outputs": [],
   "source": [
    "# estimate modulus convergence with errors\n",
    "nTraj = nBlockChosen # nTraj divides the trajectory. nTraj = nBlockChosen is the default option\n",
    "modulusDict = {\"B\":{},\"G\":{},\"E\":{},\"$\\\\nu$\":{}}\n",
    "for modulus in modulusDict:\n",
    "    modulusDict[modulus] = {\"value\":[],\"err\":[],\"timeMax\":[]}\n",
    "nTraj = nBlockChosen\n",
    "for i in range(1,nTraj,1):\n",
    "    indexTFinal = int(celArray.shape[0]/nTraj) * (i+1)\n",
    "    celArrayCut = celArray[:indexTFinal,:,:]\n",
    "    VolumeCut = ECM.htoVolume(celArrayCut)\n",
    "    nBlockEach = round(celArrayCut.shape[0]/celArray.shape[0]*nBlockChosen)\n",
    "    hLat = ECM.hTohCrystal(celArrayCut)\n",
    "    hLatAve = np.mean(hLat,axis=0)\n",
    "    epsilonT, volAve = ECM.hToEpsilon(hLat)\n",
    "    epsilonVoigt = ECM.epsToepsVoigt(epsilonT)\n",
    "    elasticConstants, compliances = ECM.epsVoigtToElasticConstants(epsilonVoigt,VolumeCut,temperature)\n",
    "    errC, errS, errVolume = ECM.elasticConstantsError(epsilonVoigt,VolumeCut,compliances,elasticConstants,temperature,nBlockEach)\n",
    "    BModulus,errBModulus,GModulus,errGModulus,EModulus,errEModulus,rPoisson,errRPoisson = ECM.ElasticConstantsToModuliAndErrors(elasticConstants,errC**2,compliances,errS**2)\n",
    "    modulusDict[\"B\"][\"value\"].append(BModulus)\n",
    "    modulusDict[\"B\"][\"err\"].append(errBModulus)\n",
    "    modulusDict[\"G\"][\"value\"].append(GModulus)\n",
    "    modulusDict[\"G\"][\"err\"].append(errGModulus)    \n",
    "    modulusDict[\"E\"][\"value\"].append(EModulus)\n",
    "    modulusDict[\"E\"][\"err\"].append(errEModulus)\n",
    "    modulusDict[\"$\\\\nu$\"][\"value\"].append(rPoisson)\n",
    "    modulusDict[\"$\\\\nu$\"][\"err\"].append(errRPoisson)\n",
    "    for modulus in modulusDict:\n",
    "        modulusDict[modulus][\"timeMax\"].append(timeArray[indexTFinal-1]-tInitial)"
   ]
  },
  {
   "cell_type": "code",
   "execution_count": null,
   "id": "988e4f65",
   "metadata": {},
   "outputs": [],
   "source": [
    "# decide colors for plotting\n",
    "for modulus in modulusDict:\n",
    "    for listName in modulusDict[modulus]:\n",
    "        modulusDict[modulus][listName] = np.array(modulusDict[modulus][listName])\n",
    "modulusDict[\"B\"][\"color\"] = 'tab:blue'\n",
    "modulusDict[\"G\"][\"color\"] = 'tab:orange'\n",
    "modulusDict[\"E\"][\"color\"] = 'tab:green'\n",
    "modulusDict[\"$\\\\nu$\"][\"color\"] = 'tab:red'"
   ]
  },
  {
   "cell_type": "code",
   "execution_count": null,
   "id": "2c6d0358",
   "metadata": {},
   "outputs": [],
   "source": [
    "# output converged moduli\n",
    "outModuliT_file=open(fileModuliTOutName, \"w+\")\n",
    "for i in range(1,nTraj-1,1):\n",
    "    outModuliT_file.write('%6.2f'%(modulusDict[\"B\"][\"timeMax\"][i])+' '+'%7.2f'%(modulusDict[\"B\"][\"value\"][i])+' '+'%5.2f'%(modulusDict[\"B\"][\"err\"][i])+ ' '+'%7.2f'%(modulusDict[\"G\"][\"value\"][i])+' '+'%5.2f'%(modulusDict[\"G\"][\"err\"][i]) + ' '+'%7.2f'%(modulusDict[\"E\"][\"value\"][i])+' '+'%5.2f'%(modulusDict[\"E\"][\"err\"][i]) + ' '+'%6.2f'%(modulusDict[\"$\\\\nu$\"][\"value\"][i])+' '+'%5.2f'%(modulusDict[\"$\\\\nu$\"][\"err\"][i]) + '\\n')\n",
    "outModuliT_file.close()"
   ]
  },
  {
   "cell_type": "code",
   "execution_count": null,
   "id": "efce2476",
   "metadata": {},
   "outputs": [],
   "source": [
    "# plot result of the convergence\n",
    "fig = plt.figure(figsize=(6.4*1,4.8*1))\n",
    "ax = []\n",
    "ax.append(fig.add_subplot(411))\n",
    "ax.append(fig.add_subplot(412))\n",
    "ax.append(fig.add_subplot(413))\n",
    "ax.append(fig.add_subplot(414))\n",
    "#\n",
    "ax[0].set_ylim(12,22)\n",
    "ax[1].set_ylim(5,8.5)\n",
    "ax[2].set_ylim(10,23)\n",
    "ax[3].set_ylim(0.10,0.40)\n",
    "#ax4.xaxis.grid(True, which='minor')\n",
    "ax[0].yaxis.set_major_locator(MultipleLocator(2))\n",
    "ax[1].yaxis.set_major_locator(MultipleLocator(1))\n",
    "ax[2].yaxis.set_major_locator(MultipleLocator(5))\n",
    "#ax.xaxis.set_major_formatter(FormatStrFormatter('%d'))\n",
    "ax[0].yaxis.set_minor_locator(MultipleLocator(0.2))\n",
    "ax[1].yaxis.set_minor_locator(MultipleLocator(0.1))\n",
    "ax[2].yaxis.set_minor_locator(MultipleLocator(1))\n",
    "ax[3].yaxis.set_minor_locator(MultipleLocator(0.02))\n",
    "#\n",
    "ax[0].xaxis.set_minor_locator(MultipleLocator(5))\n",
    "ax[1].xaxis.set_minor_locator(MultipleLocator(5))\n",
    "ax[2].xaxis.set_minor_locator(MultipleLocator(5))\n",
    "ax[3].xaxis.set_minor_locator(MultipleLocator(5))\n",
    "#\n",
    "labels = [item.get_text() for item in ax[0].get_xticklabels()]\n",
    "empty_string_labels = ['']*len(labels)\n",
    "ax[0].set_xticklabels(empty_string_labels)\n",
    "ax[1].set_xticklabels(empty_string_labels)\n",
    "ax[2].set_xticklabels(empty_string_labels)\n",
    "ax[3].set_xlabel('trajectory length (ps)')\n",
    "ax[0].set_ylabel('B (GPa)')\n",
    "ax[1].set_ylabel('G (GPa)')\n",
    "ax[2].set_ylabel('E (GPa)')\n",
    "ax[3].set_ylabel('$\\\\nu$')\n",
    "\n",
    "\n",
    "fig.align_ylabels(ax[:])\n",
    "\n",
    "for i in range(len(modulusDict)):\n",
    "    modulus = list(modulusDict.keys())[i]\n",
    "    \n",
    "    ax[i].errorbar(modulusDict[modulus][\"timeMax\"],modulusDict[modulus][\"value\"],yerr=modulusDict[modulus][\"err\"],label=modulus,marker='.',linestyle='--',c=modulusDict[modulus]['color'])\n",
    "    x  = modulusDict[modulus][\"timeMax\"]\n",
    "    y1 = modulusDict[modulus][\"value\"]+modulusDict[modulus][\"err\"]\n",
    "    y2 = modulusDict[modulus][\"value\"]-modulusDict[modulus][\"err\"]\n",
    "    f1 = interp1d(x,y1,kind='cubic')\n",
    "    f2 = interp1d(x,y2,kind='cubic')\n",
    "    xRefined = np.linspace(x[0],x[len(x)-1],len(x)*100,endpoint=True)\n",
    "    ax[i].fill_between(xRefined, f1(xRefined), f2(xRefined),color=modulusDict[modulus]['color'],alpha=0.2)\n",
    "plt.savefig(fileModuliName,dpi=300, bbox_inches='tight', pad_inches=0.01)\n",
    "#\n",
    "# ax1.tick_params(labelright=True, right=True, which='major')\n",
    "# ax1.tick_params(labelright=True, right=True, which='minor')\n",
    "#\n",
    "#\n"
   ]
  }
 ],
 "metadata": {
  "kernelspec": {
   "display_name": "Python 3 (ipykernel)",
   "language": "python",
   "name": "python3"
  },
  "language_info": {
   "codemirror_mode": {
    "name": "ipython",
    "version": 3
   },
   "file_extension": ".py",
   "mimetype": "text/x-python",
   "name": "python",
   "nbconvert_exporter": "python",
   "pygments_lexer": "ipython3",
   "version": "3.8.10"
  }
 },
 "nbformat": 4,
 "nbformat_minor": 5
}
